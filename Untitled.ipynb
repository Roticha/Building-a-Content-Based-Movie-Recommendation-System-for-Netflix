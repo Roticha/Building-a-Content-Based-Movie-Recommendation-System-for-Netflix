{
 "cells": [
  {
   "cell_type": "markdown",
   "metadata": {},
   "source": [
    "# Building a Content-Based Movie Recommendation System for Netflix\n",
    "\n",
    "## Summary\n",
    "### Business and Data Understanding\n",
    "\n",
    "The stakeholder for this project is Netflix, a global streaming platform with a vast and diverse movie catalog. Netflix's mission is to provide personalized content to its users, ensuring they stay engaged and satisfied with their viewing experience.\n",
    "\n",
    "With thousands of movies available on Netflix, users often face difficulty in discovering new content that aligns with their preferences, leading to decision fatigue and potentially lower engagement. Netflix wants to enhance its recommendation engine by suggesting movies similar to those users have already enjoyed, based on the content and genre of the films. \n",
    "\n",
    "The dataset used includes movie titles, genres, and descriptions, which are ideal for developing a recommendation system based on content similarity.By building a content-based recommendation system, Netflix can suggest relevant films to users, keeping them engaged on the platform and increasing viewing time. The system will help Netflix continue to offer a personalized and enjoyable user experience.\n",
    "\n",
    "### Data Preparation\n",
    "\n",
    "Data preparation involved combining three key columns—movie title, genre, and description—into a single feature. This combination allowed us to create a robust representation of each movie’s content. Missing values were handled by removing incomplete entries, ensuring data quality. We applied the TF-IDF (Term Frequency-Inverse Document Frequency) vectorizer to the combined text to convert the descriptions into numerical features. This method was chosen because it effectively transforms text data into a format that can be used for similarity analysis. Pandas was used for data manipulation, and Scikit-learn was employed for text vectorization and similarity computation.\n",
    "\n",
    "### Modeling\n",
    "\n",
    "We employed cosine similarity as the key metric to measure the closeness between movies based on their textual content. Using the cosine similarity score, we built a function that generates the top 5 movie recommendations for any given movie. The Surprise library and Singular Value Decomposition (SVD) were considered but ultimately not used here, as this model relies on content features rather than user ratings.\n",
    "\n",
    "### Evaluation\n",
    "\n",
    "The model was tested by retrieving the top 5 recommendations for specific movies. For example, when queried with Casanova (2015), the model suggested other films such as Das Casanova-Projekt (1981) and Peur de rien (2015). The results demonstrate the ability to recommend movies based on shared content characteristics. Although no formal performance metric (e.g., RMSE) was applicable due to the content-based nature of the model, the quality of recommendations was visually inspected for relevance.\n",
    "\n",
    "### Limitations and Recommendations\n",
    "\n",
    "The current recommendation system relies purely on movie metadata and descriptions. It does not take into account user preferences or ratings, which could limit its effectiveness for personalized recommendations. Future improvements could involve integrating collaborative filtering techniques with user rating data to develop a hybrid system that combines both content and user interactions for more accurate recommendations."
   ]
  },
  {
   "cell_type": "markdown",
   "metadata": {},
   "source": [
    "## Data Understanding\n",
    "In this section, we will load the data, understand its structure, and check for missing values."
   ]
  },
  {
   "cell_type": "code",
   "execution_count": 2,
   "metadata": {},
   "outputs": [
    {
     "name": "stdout",
     "output_type": "stream",
     "text": [
      "<class 'pandas.core.frame.DataFrame'>\n",
      "RangeIndex: 5000 entries, 0 to 4999\n",
      "Data columns (total 4 columns):\n",
      " #   Column  Non-Null Count  Dtype \n",
      "---  ------  --------------  ----- \n",
      " 0   id      5000 non-null   int64 \n",
      " 1   title   5000 non-null   object\n",
      " 2   genre   5000 non-null   object\n",
      " 3   desc    5000 non-null   object\n",
      "dtypes: int64(1), object(3)\n",
      "memory usage: 156.4+ KB\n",
      "                 id\n",
      "count   5000.000000\n",
      "mean   27188.676200\n",
      "std    15680.129994\n",
      "min        1.000000\n",
      "25%    13691.250000\n",
      "50%    26974.000000\n",
      "75%    41004.500000\n",
      "max    54198.000000\n"
     ]
    },
    {
     "data": {
      "text/html": [
       "<div>\n",
       "<style scoped>\n",
       "    .dataframe tbody tr th:only-of-type {\n",
       "        vertical-align: middle;\n",
       "    }\n",
       "\n",
       "    .dataframe tbody tr th {\n",
       "        vertical-align: top;\n",
       "    }\n",
       "\n",
       "    .dataframe thead th {\n",
       "        text-align: right;\n",
       "    }\n",
       "</style>\n",
       "<table border=\"1\" class=\"dataframe\">\n",
       "  <thead>\n",
       "    <tr style=\"text-align: right;\">\n",
       "      <th></th>\n",
       "      <th>id</th>\n",
       "      <th>title</th>\n",
       "      <th>genre</th>\n",
       "      <th>desc</th>\n",
       "    </tr>\n",
       "  </thead>\n",
       "  <tbody>\n",
       "    <tr>\n",
       "      <th>4435</th>\n",
       "      <td>530</td>\n",
       "      <td>Going Where I've Never Been: The Photography ...</td>\n",
       "      <td>documentary</td>\n",
       "      <td>The work of photographer Diane Arbus as expla...</td>\n",
       "    </tr>\n",
       "    <tr>\n",
       "      <th>4730</th>\n",
       "      <td>16328</td>\n",
       "      <td>Der Golem (1915)</td>\n",
       "      <td>horror</td>\n",
       "      <td>In this version of the golem legend, the gole...</td>\n",
       "    </tr>\n",
       "    <tr>\n",
       "      <th>2136</th>\n",
       "      <td>30089</td>\n",
       "      <td>My Heart in Kenya (2016)</td>\n",
       "      <td>documentary</td>\n",
       "      <td>After fleeing from civil war in her native Et...</td>\n",
       "    </tr>\n",
       "    <tr>\n",
       "      <th>4653</th>\n",
       "      <td>740</td>\n",
       "      <td>Cutthroats (1994)</td>\n",
       "      <td>comedy</td>\n",
       "      <td>The unhappy employees of a company that puts ...</td>\n",
       "    </tr>\n",
       "    <tr>\n",
       "      <th>3078</th>\n",
       "      <td>50058</td>\n",
       "      <td>Sanda (2014)</td>\n",
       "      <td>drama</td>\n",
       "      <td>Work, earn a salary, live off that money. Thi...</td>\n",
       "    </tr>\n",
       "  </tbody>\n",
       "</table>\n",
       "</div>"
      ],
      "text/plain": [
       "         id                                              title          genre  \\\n",
       "4435    530   Going Where I've Never Been: The Photography ...   documentary    \n",
       "4730  16328                                  Der Golem (1915)         horror    \n",
       "2136  30089                          My Heart in Kenya (2016)    documentary    \n",
       "4653    740                                 Cutthroats (1994)         comedy    \n",
       "3078  50058                                      Sanda (2014)          drama    \n",
       "\n",
       "                                                   desc  \n",
       "4435   The work of photographer Diane Arbus as expla...  \n",
       "4730   In this version of the golem legend, the gole...  \n",
       "2136   After fleeing from civil war in her native Et...  \n",
       "4653   The unhappy employees of a company that puts ...  \n",
       "3078   Work, earn a salary, live off that money. Thi...  "
      ]
     },
     "execution_count": 2,
     "metadata": {},
     "output_type": "execute_result"
    }
   ],
   "source": [
    "import pandas as pd\n",
    "\n",
    "# Load the dataset\n",
    "movie_data = pd.read_csv('movie_descriptions.csv')\n",
    "\n",
    "# Show dataset info\n",
    "movie_data.info()\n",
    "\n",
    "# Display basic statistics\n",
    "print(movie_data.describe())\n",
    "\n",
    "# Sample of the dataset\n",
    "movie_data.sample(5)\n"
   ]
  },
  {
   "cell_type": "markdown",
   "metadata": {},
   "source": [
    "The dataset contains the following columns:\n",
    "\n",
    "- id: A unique identifier for each movie.\n",
    "- title: The title of the movie.\n",
    "- genre: The genre of the movie (e.g., documentary, drama, comedy).\n",
    "- desc: A description or summary of the movie."
   ]
  },
  {
   "cell_type": "code",
   "execution_count": null,
   "metadata": {},
   "outputs": [],
   "source": []
  }
 ],
 "metadata": {
  "kernelspec": {
   "display_name": "Python (learn-env)",
   "language": "python",
   "name": "learn-env"
  },
  "language_info": {
   "codemirror_mode": {
    "name": "ipython",
    "version": 3
   },
   "file_extension": ".py",
   "mimetype": "text/x-python",
   "name": "python",
   "nbconvert_exporter": "python",
   "pygments_lexer": "ipython3",
   "version": "3.8.5"
  }
 },
 "nbformat": 4,
 "nbformat_minor": 4
}
